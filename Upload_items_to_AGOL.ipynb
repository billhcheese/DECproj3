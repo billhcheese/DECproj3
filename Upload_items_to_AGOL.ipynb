{
 "cells": [
  {
   "cell_type": "code",
   "execution_count": 0,
   "metadata": {
    "application/vnd.databricks.v1+cell": {
     "cellMetadata": {},
     "inputWidgets": {},
     "nuid": "371cc8bf-5d85-4647-8937-86ff791b3c55",
     "showTitle": false,
     "title": ""
    }
   },
   "outputs": [],
   "source": [
    "import geopandas as gpd\n",
    "import pandas as pd\n",
    "import arcgis"
   ]
  },
  {
   "cell_type": "code",
   "execution_count": 0,
   "metadata": {
    "application/vnd.databricks.v1+cell": {
     "cellMetadata": {},
     "inputWidgets": {},
     "nuid": "a1abe778-5b75-4a1d-a954-2109037d2b46",
     "showTitle": false,
     "title": ""
    }
   },
   "outputs": [],
   "source": [
    "gis = arcgis.gis.GIS(\n",
    "    url = \"https://www.arcgis.com\",\n",
    "    username = AGOL_USERNAME,\n",
    "    password = AGOL_PASSOWRD\n",
    ")\n",
    "print(gis)"
   ]
  }
 ],
 "metadata": {
  "application/vnd.databricks.v1+notebook": {
   "dashboards": [],
   "environmentMetadata": null,
   "language": "python",
   "notebookMetadata": {
    "pythonIndentUnit": 4
   },
   "notebookName": "Upload_items_to_AGOL",
   "widgets": {}
  }
 },
 "nbformat": 4,
 "nbformat_minor": 0
}
